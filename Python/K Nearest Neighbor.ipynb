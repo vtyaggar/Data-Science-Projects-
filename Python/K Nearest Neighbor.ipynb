{
 "cells": [
  {
   "cell_type": "code",
   "execution_count": 21,
   "metadata": {},
   "outputs": [
    {
     "ename": "SyntaxError",
     "evalue": "invalid syntax (<ipython-input-21-9b5e8265f566>, line 6)",
     "output_type": "error",
     "traceback": [
      "\u001b[1;36m  File \u001b[1;32m\"<ipython-input-21-9b5e8265f566>\"\u001b[1;36m, line \u001b[1;32m6\u001b[0m\n\u001b[1;33m    datasets = (filter_data=fil['CASE_STATUS'])\u001b[0m\n\u001b[1;37m                           ^\u001b[0m\n\u001b[1;31mSyntaxError\u001b[0m\u001b[1;31m:\u001b[0m invalid syntax\n"
     ]
    }
   ],
   "source": [
    "import pandas as pd\n",
    "from pandas import ExcelFile\n",
    "fil =pd.read_csv('~/Documents/MSBA/Second Quarter/Data Mining/Assignments/Final Exam Datatsets and Answers/h-1b-visa/h1b_kaggle.csv')\n",
    "\n",
    "\n",
    "datasets = (filter_data=fil['CASE_STATUS'])\n",
    "head(datasets)"
   ]
  },
  {
   "cell_type": "code",
   "execution_count": 93,
   "metadata": {},
   "outputs": [],
   "source": [
    "import pandas as pd\n",
    "from pandas import ExcelFile\n",
    "\n",
    "FinalDataSheet =pd.ExcelFile('~/Documents/MSBA/Second Quarter/Data Mining/Assignments/Final Exam Datatsets and Answers/FinalExam.xlsx', sheetname='KNN')\n",
    "df_train =FinalDataSheet.parse('KNN')\n"
   ]
  },
  {
   "cell_type": "code",
   "execution_count": 110,
   "metadata": {},
   "outputs": [
    {
     "name": "stdout",
     "output_type": "stream",
     "text": [
      "[0 0]\n",
      "1.0 1.0\n",
      "Accuracy is  100.0 % for K-Value: 1\n",
      "[0 0]\n",
      "1.0 1.0\n",
      "Accuracy is  100.0 % for K-Value: 2\n",
      "[0 0]\n",
      "1.0 1.0\n",
      "Accuracy is  100.0 % for K-Value: 3\n"
     ]
    },
    {
     "data": {
      "text/plain": [
       "(array([[  27.43756549,   67.94541927,   69.51417122],\n",
       "        [  73.61263479,   76.24814752,  117.73741971]]), array([[4, 5, 7],\n",
       "        [4, 7, 2]], dtype=int64))"
      ]
     },
     "execution_count": 110,
     "metadata": {},
     "output_type": "execute_result"
    }
   ],
   "source": [
    "#K Nearest Neighbor\n",
    "import sklearn\n",
    "from sklearn.neighbors import KNeighborsClassifier as knn\n",
    "from sklearn.metrics import accuracy_score\n",
    "from sklearn.neighbors import NearestNeighbors\n",
    "import numpy as np\n",
    "\n",
    "X= df_train[['Day Mins','Eve Mins','Night Mins','Intl Mins']]\n",
    "Y = df_train['Churn']\n",
    "X_train = X[:10]\n",
    "Y_train = Y[:10]\n",
    "\n",
    "X_test = X[10:]\n",
    "Y_test = Y[10:]\n",
    "\n",
    "for k in range(3):\n",
    "    K_value = k+1\n",
    "    neigh = knn(n_neighbors = K_value, weights='distance', algorithm='auto')\n",
    "    neigh.fit(X_train, Y_train) \n",
    "    y_pred = neigh.predict(X_test)\n",
    "    \n",
    "    print(y_pred)\n",
    "# Accuracy Score\n",
    "    accuracy_train = accuracy_score(Y_train,neigh.predict(X_train))\n",
    "    accuracy_test = accuracy_score(Y_test,neigh.predict(X_test))\n",
    "    print(accuracy_train,accuracy_test)\n",
    "    print(\"Accuracy is \", accuracy_score(Y_test,y_pred)*100,\"% for K-Value:\",K_value)\n",
    "# distance calculation\n",
    "neigh.kneighbors(X_test)\n",
    "#NearestNeighbors(n_neighbors=2, algorithm='auto').fit(X_train, Y_train)"
   ]
  },
  {
   "cell_type": "code",
   "execution_count": 57,
   "metadata": {},
   "outputs": [
    {
     "data": {
      "text/html": [
       "<div>\n",
       "<style>\n",
       "    .dataframe thead tr:only-child th {\n",
       "        text-align: right;\n",
       "    }\n",
       "\n",
       "    .dataframe thead th {\n",
       "        text-align: left;\n",
       "    }\n",
       "\n",
       "    .dataframe tbody tr th {\n",
       "        vertical-align: top;\n",
       "    }\n",
       "</style>\n",
       "<table border=\"1\" class=\"dataframe\">\n",
       "  <thead>\n",
       "    <tr style=\"text-align: right;\">\n",
       "      <th></th>\n",
       "      <th>Record Num</th>\n",
       "      <th>Account Length</th>\n",
       "      <th>Day Mins</th>\n",
       "      <th>Eve Mins</th>\n",
       "      <th>Night Mins</th>\n",
       "      <th>Intl Mins</th>\n",
       "      <th>Churn</th>\n",
       "    </tr>\n",
       "  </thead>\n",
       "  <tbody>\n",
       "    <tr>\n",
       "      <th>0</th>\n",
       "      <td>-1.593255</td>\n",
       "      <td>0.450733</td>\n",
       "      <td>1.147406</td>\n",
       "      <td>0.287536</td>\n",
       "      <td>0.718189</td>\n",
       "      <td>0.079937</td>\n",
       "      <td>-0.301511</td>\n",
       "    </tr>\n",
       "    <tr>\n",
       "      <th>1</th>\n",
       "      <td>-1.303572</td>\n",
       "      <td>-0.213505</td>\n",
       "      <td>-0.772667</td>\n",
       "      <td>0.261675</td>\n",
       "      <td>0.932377</td>\n",
       "      <td>1.623065</td>\n",
       "      <td>-0.301511</td>\n",
       "    </tr>\n",
       "    <tr>\n",
       "      <th>2</th>\n",
       "      <td>-1.013890</td>\n",
       "      <td>0.735406</td>\n",
       "      <td>0.744840</td>\n",
       "      <td>-0.749635</td>\n",
       "      <td>-1.094673</td>\n",
       "      <td>0.997472</td>\n",
       "      <td>-0.301511</td>\n",
       "    </tr>\n",
       "    <tr>\n",
       "      <th>3</th>\n",
       "      <td>-0.724207</td>\n",
       "      <td>-0.941003</td>\n",
       "      <td>1.783721</td>\n",
       "      <td>-1.556777</td>\n",
       "      <td>-0.337290</td>\n",
       "      <td>-1.338073</td>\n",
       "      <td>-0.301511</td>\n",
       "    </tr>\n",
       "    <tr>\n",
       "      <th>4</th>\n",
       "      <td>-0.434524</td>\n",
       "      <td>-1.225676</td>\n",
       "      <td>-0.678055</td>\n",
       "      <td>-0.380772</td>\n",
       "      <td>-0.558101</td>\n",
       "      <td>0.121643</td>\n",
       "      <td>-0.301511</td>\n",
       "    </tr>\n",
       "    <tr>\n",
       "      <th>5</th>\n",
       "      <td>-0.144841</td>\n",
       "      <td>0.134429</td>\n",
       "      <td>0.373811</td>\n",
       "      <td>0.603315</td>\n",
       "      <td>-0.182722</td>\n",
       "      <td>-1.463191</td>\n",
       "      <td>-0.301511</td>\n",
       "    </tr>\n",
       "    <tr>\n",
       "      <th>6</th>\n",
       "      <td>0.144841</td>\n",
       "      <td>0.229320</td>\n",
       "      <td>0.277344</td>\n",
       "      <td>2.344183</td>\n",
       "      <td>0.009384</td>\n",
       "      <td>-0.962717</td>\n",
       "      <td>-0.301511</td>\n",
       "    </tr>\n",
       "    <tr>\n",
       "      <th>7</th>\n",
       "      <td>0.434524</td>\n",
       "      <td>1.051709</td>\n",
       "      <td>-0.858004</td>\n",
       "      <td>-0.995997</td>\n",
       "      <td>-0.008280</td>\n",
       "      <td>-1.129542</td>\n",
       "      <td>-0.301511</td>\n",
       "    </tr>\n",
       "    <tr>\n",
       "      <th>8</th>\n",
       "      <td>0.724207</td>\n",
       "      <td>0.861927</td>\n",
       "      <td>1.026822</td>\n",
       "      <td>0.622371</td>\n",
       "      <td>2.522220</td>\n",
       "      <td>0.580411</td>\n",
       "      <td>-0.301511</td>\n",
       "    </tr>\n",
       "    <tr>\n",
       "      <th>9</th>\n",
       "      <td>1.013890</td>\n",
       "      <td>-1.541980</td>\n",
       "      <td>-1.375589</td>\n",
       "      <td>0.710843</td>\n",
       "      <td>-0.074524</td>\n",
       "      <td>1.206003</td>\n",
       "      <td>3.316625</td>\n",
       "    </tr>\n",
       "    <tr>\n",
       "      <th>10</th>\n",
       "      <td>1.303572</td>\n",
       "      <td>-1.257307</td>\n",
       "      <td>-0.288475</td>\n",
       "      <td>-0.175244</td>\n",
       "      <td>-0.357163</td>\n",
       "      <td>-0.295419</td>\n",
       "      <td>-0.301511</td>\n",
       "    </tr>\n",
       "    <tr>\n",
       "      <th>11</th>\n",
       "      <td>1.593255</td>\n",
       "      <td>1.715947</td>\n",
       "      <td>-1.381154</td>\n",
       "      <td>-0.971497</td>\n",
       "      <td>-1.569418</td>\n",
       "      <td>0.580411</td>\n",
       "      <td>-0.301511</td>\n",
       "    </tr>\n",
       "  </tbody>\n",
       "</table>\n",
       "</div>"
      ],
      "text/plain": [
       "    Record Num  Account Length  Day Mins  Eve Mins  Night Mins  Intl Mins  \\\n",
       "0    -1.593255        0.450733  1.147406  0.287536    0.718189   0.079937   \n",
       "1    -1.303572       -0.213505 -0.772667  0.261675    0.932377   1.623065   \n",
       "2    -1.013890        0.735406  0.744840 -0.749635   -1.094673   0.997472   \n",
       "3    -0.724207       -0.941003  1.783721 -1.556777   -0.337290  -1.338073   \n",
       "4    -0.434524       -1.225676 -0.678055 -0.380772   -0.558101   0.121643   \n",
       "5    -0.144841        0.134429  0.373811  0.603315   -0.182722  -1.463191   \n",
       "6     0.144841        0.229320  0.277344  2.344183    0.009384  -0.962717   \n",
       "7     0.434524        1.051709 -0.858004 -0.995997   -0.008280  -1.129542   \n",
       "8     0.724207        0.861927  1.026822  0.622371    2.522220   0.580411   \n",
       "9     1.013890       -1.541980 -1.375589  0.710843   -0.074524   1.206003   \n",
       "10    1.303572       -1.257307 -0.288475 -0.175244   -0.357163  -0.295419   \n",
       "11    1.593255        1.715947 -1.381154 -0.971497   -1.569418   0.580411   \n",
       "\n",
       "       Churn  \n",
       "0  -0.301511  \n",
       "1  -0.301511  \n",
       "2  -0.301511  \n",
       "3  -0.301511  \n",
       "4  -0.301511  \n",
       "5  -0.301511  \n",
       "6  -0.301511  \n",
       "7  -0.301511  \n",
       "8  -0.301511  \n",
       "9   3.316625  \n",
       "10 -0.301511  \n",
       "11 -0.301511  "
      ]
     },
     "execution_count": 57,
     "metadata": {},
     "output_type": "execute_result"
    }
   ],
   "source": [
    "# standardize\n",
    "from scipy.stats import zscore\n",
    "numericCols = df_train.select_dtypes(include=['float64','int64']).columns\n",
    "df_train[numericCols].apply(zscore)"
   ]
  },
  {
   "cell_type": "code",
   "execution_count": 108,
   "metadata": {},
   "outputs": [
    {
     "ename": "NameError",
     "evalue": "name 'sqrt' is not defined",
     "output_type": "error",
     "traceback": [
      "\u001b[1;31m---------------------------------------------------------------------------\u001b[0m",
      "\u001b[1;31mNameError\u001b[0m                                 Traceback (most recent call last)",
      "\u001b[1;32m<ipython-input-108-d1a3557241ee>\u001b[0m in \u001b[0;36m<module>\u001b[1;34m()\u001b[0m\n\u001b[0;32m      2\u001b[0m \u001b[1;32mdef\u001b[0m \u001b[0meucledian_distance\u001b[0m\u001b[1;33m(\u001b[0m\u001b[0ma\u001b[0m\u001b[1;33m,\u001b[0m\u001b[0mb\u001b[0m\u001b[1;33m)\u001b[0m\u001b[1;33m:\u001b[0m\u001b[1;33m\u001b[0m\u001b[0m\n\u001b[0;32m      3\u001b[0m     \u001b[1;32mreturn\u001b[0m \u001b[0msqrt\u001b[0m\u001b[1;33m(\u001b[0m\u001b[0msum\u001b[0m\u001b[1;33m(\u001b[0m\u001b[0mpow\u001b[0m\u001b[1;33m(\u001b[0m\u001b[0ma\u001b[0m\u001b[1;33m-\u001b[0m\u001b[0mb\u001b[0m\u001b[1;33m,\u001b[0m\u001b[1;36m2\u001b[0m\u001b[1;33m)\u001b[0m \u001b[1;32mfor\u001b[0m \u001b[0ma\u001b[0m\u001b[1;33m,\u001b[0m \u001b[0mb\u001b[0m \u001b[1;32min\u001b[0m \u001b[0mzip\u001b[0m\u001b[1;33m(\u001b[0m\u001b[0mx\u001b[0m\u001b[1;33m,\u001b[0m \u001b[0my\u001b[0m\u001b[1;33m)\u001b[0m\u001b[1;33m)\u001b[0m\u001b[1;33m)\u001b[0m\u001b[1;33m\u001b[0m\u001b[0m\n\u001b[1;32m----> 4\u001b[1;33m \u001b[0mdistance\u001b[0m \u001b[1;33m=\u001b[0m \u001b[0meucledian_distance\u001b[0m\u001b[1;33m(\u001b[0m\u001b[1;33m(\u001b[0m\u001b[1;36m265.1\u001b[0m\u001b[1;33m,\u001b[0m\u001b[1;36m197.4\u001b[0m\u001b[1;33m,\u001b[0m\u001b[1;36m244.7\u001b[0m\u001b[1;33m,\u001b[0m\u001b[1;36m10\u001b[0m\u001b[1;33m)\u001b[0m\u001b[1;33m,\u001b[0m\u001b[1;33m(\u001b[0m\u001b[1;36m128.8\u001b[0m\u001b[1;33m,\u001b[0m\u001b[1;36m104.9\u001b[0m\u001b[1;33m,\u001b[0m\u001b[1;36m141.1\u001b[0m\u001b[1;33m,\u001b[0m\u001b[1;36m11.2\u001b[0m\u001b[1;33m)\u001b[0m\u001b[1;33m)\u001b[0m\u001b[1;33m\u001b[0m\u001b[0m\n\u001b[0m\u001b[0;32m      5\u001b[0m \u001b[0mprint\u001b[0m\u001b[1;33m(\u001b[0m\u001b[1;34m\"Euclidean distance from x to y: \"\u001b[0m\u001b[1;33m,\u001b[0m\u001b[0mdistance\u001b[0m\u001b[1;33m)\u001b[0m\u001b[1;33m\u001b[0m\u001b[0m\n",
      "\u001b[1;32m<ipython-input-108-d1a3557241ee>\u001b[0m in \u001b[0;36meucledian_distance\u001b[1;34m(a, b)\u001b[0m\n\u001b[0;32m      1\u001b[0m \u001b[1;31m#Eucledian distance:\u001b[0m\u001b[1;33m\u001b[0m\u001b[1;33m\u001b[0m\u001b[0m\n\u001b[0;32m      2\u001b[0m \u001b[1;32mdef\u001b[0m \u001b[0meucledian_distance\u001b[0m\u001b[1;33m(\u001b[0m\u001b[0ma\u001b[0m\u001b[1;33m,\u001b[0m\u001b[0mb\u001b[0m\u001b[1;33m)\u001b[0m\u001b[1;33m:\u001b[0m\u001b[1;33m\u001b[0m\u001b[0m\n\u001b[1;32m----> 3\u001b[1;33m     \u001b[1;32mreturn\u001b[0m \u001b[0msqrt\u001b[0m\u001b[1;33m(\u001b[0m\u001b[0msum\u001b[0m\u001b[1;33m(\u001b[0m\u001b[0mpow\u001b[0m\u001b[1;33m(\u001b[0m\u001b[0ma\u001b[0m\u001b[1;33m-\u001b[0m\u001b[0mb\u001b[0m\u001b[1;33m,\u001b[0m\u001b[1;36m2\u001b[0m\u001b[1;33m)\u001b[0m \u001b[1;32mfor\u001b[0m \u001b[0ma\u001b[0m\u001b[1;33m,\u001b[0m \u001b[0mb\u001b[0m \u001b[1;32min\u001b[0m \u001b[0mzip\u001b[0m\u001b[1;33m(\u001b[0m\u001b[0mx\u001b[0m\u001b[1;33m,\u001b[0m \u001b[0my\u001b[0m\u001b[1;33m)\u001b[0m\u001b[1;33m)\u001b[0m\u001b[1;33m)\u001b[0m\u001b[1;33m\u001b[0m\u001b[0m\n\u001b[0m\u001b[0;32m      4\u001b[0m \u001b[0mdistance\u001b[0m \u001b[1;33m=\u001b[0m \u001b[0meucledian_distance\u001b[0m\u001b[1;33m(\u001b[0m\u001b[1;33m(\u001b[0m\u001b[1;36m265.1\u001b[0m\u001b[1;33m,\u001b[0m\u001b[1;36m197.4\u001b[0m\u001b[1;33m,\u001b[0m\u001b[1;36m244.7\u001b[0m\u001b[1;33m,\u001b[0m\u001b[1;36m10\u001b[0m\u001b[1;33m)\u001b[0m\u001b[1;33m,\u001b[0m\u001b[1;33m(\u001b[0m\u001b[1;36m128.8\u001b[0m\u001b[1;33m,\u001b[0m\u001b[1;36m104.9\u001b[0m\u001b[1;33m,\u001b[0m\u001b[1;36m141.1\u001b[0m\u001b[1;33m,\u001b[0m\u001b[1;36m11.2\u001b[0m\u001b[1;33m)\u001b[0m\u001b[1;33m)\u001b[0m\u001b[1;33m\u001b[0m\u001b[0m\n\u001b[0;32m      5\u001b[0m \u001b[0mprint\u001b[0m\u001b[1;33m(\u001b[0m\u001b[1;34m\"Euclidean distance from x to y: \"\u001b[0m\u001b[1;33m,\u001b[0m\u001b[0mdistance\u001b[0m\u001b[1;33m)\u001b[0m\u001b[1;33m\u001b[0m\u001b[0m\n",
      "\u001b[1;31mNameError\u001b[0m: name 'sqrt' is not defined"
     ]
    }
   ],
   "source": []
  },
  {
   "cell_type": "code",
   "execution_count": 107,
   "metadata": {},
   "outputs": [
    {
     "name": "stdout",
     "output_type": "stream",
     "text": [
      "Eucledian distance 194.59789310267467\n"
     ]
    }
   ],
   "source": [
    "from scipy.spatial import distance\n",
    "a = (265.1,197.4,244.7,10)\n",
    "b = (128.8,104.9,141.1,11.2)\n",
    "dst = distance.euclidean(a,b)\n",
    "print(\"Eucledian distance\",dst)"
   ]
  },
  {
   "cell_type": "code",
   "execution_count": null,
   "metadata": {
    "collapsed": true
   },
   "outputs": [],
   "source": []
  }
 ],
 "metadata": {
  "kernelspec": {
   "display_name": "Python 3",
   "language": "python",
   "name": "python3"
  },
  "language_info": {
   "codemirror_mode": {
    "name": "ipython",
    "version": 3
   },
   "file_extension": ".py",
   "mimetype": "text/x-python",
   "name": "python",
   "nbconvert_exporter": "python",
   "pygments_lexer": "ipython3",
   "version": "3.6.2"
  }
 },
 "nbformat": 4,
 "nbformat_minor": 2
}
